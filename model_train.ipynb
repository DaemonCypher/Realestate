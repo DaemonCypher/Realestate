{
 "cells": [
  {
   "cell_type": "code",
   "execution_count": 1,
   "metadata": {},
   "outputs": [],
   "source": [
    "import pandas as pd\n",
    "import numpy as np\n",
    "import tensorflow as tf\n",
    "from sklearn.model_selection import train_test_split\n",
    "from sklearn.preprocessing import StandardScaler\n",
    "from sklearn.metrics import r2_score\n",
    "\n",
    "# Load the data\n",
    "data = pd.read_csv('output.csv')\n",
    "\n",
    "# Drop non-numeric columns\n",
    "data = data.drop(columns=['Address','Status', 'Data Date'])\n"
   ]
  },
  {
   "cell_type": "code",
   "execution_count": 5,
   "metadata": {},
   "outputs": [
    {
     "name": "stdout",
     "output_type": "stream",
     "text": [
      "Epoch 1/20\n",
      "2155/2155 [==============================] - 18s 8ms/step - loss: 21847787520.0000 - mae: 31409.0156 - val_loss: 2255645184.0000 - val_mae: 13263.4648\n",
      "Epoch 2/20\n",
      "2155/2155 [==============================] - 17s 8ms/step - loss: 7754586112.0000 - mae: 15348.5869 - val_loss: 2147983104.0000 - val_mae: 11832.0361\n",
      "Epoch 3/20\n",
      "2155/2155 [==============================] - 17s 8ms/step - loss: 2771962368.0000 - mae: 12760.1504 - val_loss: 1940516224.0000 - val_mae: 12431.3418\n",
      "Epoch 4/20\n",
      "2155/2155 [==============================] - 18s 9ms/step - loss: 1733204480.0000 - mae: 13292.0293 - val_loss: 1521170560.0000 - val_mae: 10524.4238\n",
      "Epoch 5/20\n",
      "2155/2155 [==============================] - 18s 9ms/step - loss: 1188672896.0000 - mae: 12571.5957 - val_loss: 2096932992.0000 - val_mae: 18790.1465\n",
      "Epoch 6/20\n",
      "2155/2155 [==============================] - 18s 9ms/step - loss: 1358007936.0000 - mae: 11942.2666 - val_loss: 1549769856.0000 - val_mae: 12143.4355\n",
      "Epoch 7/20\n",
      "2155/2155 [==============================] - 20s 9ms/step - loss: 2238865664.0000 - mae: 11505.0303 - val_loss: 1434062592.0000 - val_mae: 9974.2227\n",
      "Epoch 8/20\n",
      "2155/2155 [==============================] - 19s 9ms/step - loss: 1488676352.0000 - mae: 12010.5303 - val_loss: 1390727296.0000 - val_mae: 9471.2383\n",
      "Epoch 9/20\n",
      "2155/2155 [==============================] - 19s 9ms/step - loss: 1484250624.0000 - mae: 11526.2705 - val_loss: 1508622336.0000 - val_mae: 9264.6475\n",
      "Epoch 10/20\n",
      "2155/2155 [==============================] - 19s 9ms/step - loss: 1222999424.0000 - mae: 11122.2432 - val_loss: 1390758144.0000 - val_mae: 9469.3320\n",
      "Epoch 11/20\n",
      "2155/2155 [==============================] - 19s 9ms/step - loss: 922331584.0000 - mae: 10770.2676 - val_loss: 1386696448.0000 - val_mae: 9571.4043\n",
      "Epoch 12/20\n",
      "2155/2155 [==============================] - 19s 9ms/step - loss: 1007935104.0000 - mae: 10689.5498 - val_loss: 1425875712.0000 - val_mae: 9694.5957\n",
      "Epoch 13/20\n",
      "2155/2155 [==============================] - 18s 9ms/step - loss: 839901504.0000 - mae: 10391.0479 - val_loss: 1488428032.0000 - val_mae: 9897.3115\n",
      "Epoch 14/20\n",
      "2155/2155 [==============================] - 19s 9ms/step - loss: 2417415168.0000 - mae: 10532.5283 - val_loss: 1462567040.0000 - val_mae: 9330.3477\n",
      "Epoch 15/20\n",
      "2155/2155 [==============================] - 19s 9ms/step - loss: 868993536.0000 - mae: 10366.9365 - val_loss: 1462560512.0000 - val_mae: 9223.6182\n",
      "Epoch 16/20\n",
      "2155/2155 [==============================] - 18s 9ms/step - loss: 1013335744.0000 - mae: 10120.8613 - val_loss: 1578292608.0000 - val_mae: 12562.5830\n",
      "Epoch 17/20\n",
      "2155/2155 [==============================] - 18s 9ms/step - loss: 824245056.0000 - mae: 10246.9463 - val_loss: 1418627584.0000 - val_mae: 9159.7598\n",
      "Epoch 18/20\n",
      "2155/2155 [==============================] - 18s 8ms/step - loss: 910047360.0000 - mae: 10453.7637 - val_loss: 1409991936.0000 - val_mae: 9133.3770\n",
      "Epoch 19/20\n",
      "2155/2155 [==============================] - 18s 8ms/step - loss: 6294102528.0000 - mae: 10252.0947 - val_loss: 1468781824.0000 - val_mae: 9492.7734\n",
      "Epoch 20/20\n",
      "2155/2155 [==============================] - 18s 8ms/step - loss: 1217632256.0000 - mae: 10158.3203 - val_loss: 1431531776.0000 - val_mae: 9176.9658\n"
     ]
    },
    {
     "data": {
      "text/plain": [
       "<keras.src.callbacks.History at 0x1a2056f0510>"
      ]
     },
     "execution_count": 5,
     "metadata": {},
     "output_type": "execute_result"
    }
   ],
   "source": [
    "X = data.values[:, :-1]  # All but the last month\n",
    "y = data.values[:, -1]  # Last month\n",
    "\n",
    "X = X.reshape((X.shape[0], X.shape[1], 1))\n",
    "max_months = data.shape[1] - 1  # Subtract 1 to exclude the target column\n",
    "\n",
    "# Split the data into training and testing sets\n",
    "X_train, X_test, y_train, y_test = train_test_split(X, y, test_size=0.2, random_state=42)\n",
    "\n",
    "# Build the LSTM model\n",
    "model = tf.keras.models.Sequential([\n",
    "    tf.keras.layers.LSTM(max_months//2, activation='relu', input_shape=(X_train.shape[1], X_train.shape[2])),\n",
    "    tf.keras.layers.Dense(max_months//4, activation='relu'),\n",
    "    tf.keras.layers.Dense(1)  # Linear activation for regression\n",
    "])\n",
    "\n",
    "# Compile the model\n",
    "model.compile(optimizer='adam', loss='mse', metrics=['mae'])\n",
    "\n",
    "# Train the model\n",
    "model.fit(X_train, y_train, epochs=20, batch_size=64, validation_data=(X_test, y_test))"
   ]
  },
  {
   "cell_type": "code",
   "execution_count": 6,
   "metadata": {},
   "outputs": [
    {
     "name": "stdout",
     "output_type": "stream",
     "text": [
      "1078/1078 [==============================] - 2s 2ms/step - loss: 1431531264.0000 - mae: 9176.9678\n",
      "Mean Absolute Error: 9176.9677734375\n",
      "1078/1078 [==============================] - 2s 2ms/step\n",
      "R-squared (R²) on validation data: 0.9962669480241106\n",
      "5386/5386 [==============================] - 10s 2ms/step\n",
      "        Predicted Price\n",
      "0         122774.273438\n",
      "1         238399.703125\n",
      "2         294029.531250\n",
      "3         304463.750000\n",
      "4         276552.187500\n",
      "...                 ...\n",
      "172336    577045.062500\n",
      "172337    908520.937500\n",
      "172338    399831.468750\n",
      "172339    464117.218750\n",
      "172340    993272.562500\n",
      "\n",
      "[172341 rows x 1 columns]\n"
     ]
    }
   ],
   "source": [
    "# Evaluate the model\n",
    "loss, mae = model.evaluate(X_test, y_test)\n",
    "print(f'Mean Absolute Error: {mae}')\n",
    "\n",
    "# Make predictions on the validation data\n",
    "y_pred = model.predict(X_test)\n",
    "\n",
    "# If you want to compute R-squared (R²) on validation data\n",
    "from sklearn.metrics import r2_score\n",
    "r2 = r2_score(y_test, y_pred)\n",
    "print(f'R-squared (R²) on validation data: {r2}')\n",
    "\n",
    "# If you want to predict on the entire dataset\n",
    "predictions_full = model.predict(X.reshape((X.shape[0], X.shape[1], 1)))  # Ensure X is 3D\n",
    "predictions_full_df = pd.DataFrame(predictions_full, columns=['Predicted Price'])\n",
    "print(predictions_full_df)"
   ]
  },
  {
   "cell_type": "code",
   "execution_count": 4,
   "metadata": {},
   "outputs": [
    {
     "name": "stdout",
     "output_type": "stream",
     "text": [
      "INFO:tensorflow:Assets written to: saved_model/my_model\\assets\n"
     ]
    },
    {
     "name": "stderr",
     "output_type": "stream",
     "text": [
      "INFO:tensorflow:Assets written to: saved_model/my_model\\assets\n"
     ]
    }
   ],
   "source": [
    "model.save(\"saved_model/my_model\")"
   ]
  }
 ],
 "metadata": {
  "kernelspec": {
   "display_name": "base",
   "language": "python",
   "name": "python3"
  },
  "language_info": {
   "codemirror_mode": {
    "name": "ipython",
    "version": 3
   },
   "file_extension": ".py",
   "mimetype": "text/x-python",
   "name": "python",
   "nbconvert_exporter": "python",
   "pygments_lexer": "ipython3",
   "version": "3.11.4"
  },
  "orig_nbformat": 4
 },
 "nbformat": 4,
 "nbformat_minor": 2
}
